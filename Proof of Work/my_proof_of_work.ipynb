{
  "cells": [
    {
      "metadata": {
        "_uuid": "4b2a8945e9af7c863c4e4d69bb3faa3342bad086",
        "_cell_guid": "55a5abd9-fcde-4bd7-b563-8f5570a87eff"
      },
      "cell_type": "markdown",
      "source": "# Introduction\nIn this notebook we examine the idea of a hash function and what this means for proof-of-work. In particular we focus on how to make something that is difficult to compute and yet easy to verify for the purposes of a blockchain"
    },
    {
      "metadata": {
        "_uuid": "72810ba403c6892b5305973fb09db43e30393ca0",
        "_cell_guid": "5394347c-a4dd-4d36-a81c-3e4a24cdfbd8"
      },
      "cell_type": "markdown",
      "source": "## Hash Functions / Signatures\nHere we start out with hash functions where we use the [SHA256](https://en.wikipedia.org/wiki/SHA-2) algorithm built into python. We wrap the function up a bit so we can use it with both strings and numbers."
    },
    {
      "metadata": {
        "_uuid": "5e7dc7fe2cf5b3a7f1c2748d7394304230ba7d04",
        "collapsed": true,
        "_cell_guid": "55eafb52-e6bb-4cba-8a05-5adf32111df5",
        "trusted": false
      },
      "cell_type": "code",
      "source": "from hashlib import sha256 # a 256-bit hash function \ndef simple_hash_func(in_value):\n    return sha256('{}'.format(in_value).encode()).hexdigest()[-7:]",
      "execution_count": null,
      "outputs": []
    },
    {
      "metadata": {
        "_uuid": "5d828b62029e20de599f6bb06f7499c5ad81ddd9",
        "_cell_guid": "fbe5aa8d-bf12-493a-bdfb-015ca554559b"
      },
      "cell_type": "markdown",
      "source": "Using the hash function, here we can use the hash function to encode a _signature_ or fingerprint of the value. The primary purpose of this _signature_ is that it encapsulates the value without actually containing it. Individual hashes are very quick to compute which is important for making a blockchain easy to verify."
    },
    {
      "metadata": {
        "_uuid": "a985a1b850ec14e05953a20899b14a09591a72b3",
        "_cell_guid": "f56ea796-1d3d-479e-b4d4-c1caf5a03144",
        "trusted": false,
        "collapsed": true
      },
      "cell_type": "code",
      "source": "%%time\nmy_favorite_number = 12345\nprint(my_favorite_number,'\\t',simple_hash_func(my_favorite_number))\n# we can now try adding one to this number and we see that the hash changes\nprint(my_favorite_number+1,'\\t',simple_hash_func(my_favorite_number+1))\nif simple_hash_func(my_favorite_number) != simple_hash_func(my_favorite_number+1):\n    print('Hashes do not match!')",
      "execution_count": null,
      "outputs": []
    },
    {
      "metadata": {
        "_uuid": "5d3c16df52feb55ad8aff525494d5401c13fe239",
        "_cell_guid": "3dece2e9-a6a8-477c-af88-e0e8d772224d"
      },
      "cell_type": "markdown",
      "source": "## List of transactions\nFollowing the slides we can do the same task with a list of transactions\n```\nTim pays Joel $3\nJoel pays Kevin $1.5\nTim pays Joel $3\n```\n"
    },
    {
      "metadata": {
        "_uuid": "72e62f9b34cb948f64f8fc125740245cfa34e178",
        "_cell_guid": "f34c5eed-d8f1-4356-b69f-cacf28ef2396",
        "trusted": false,
        "collapsed": true
      },
      "cell_type": "code",
      "source": "transactions = [\n    ['2017-12-12', 'Tim pays Joel $3'],\n    ['2017-12-13', 'Joel pays Kevin $1.5'],\n    ['2017-12-13', 'Tim pays Joel $3']\n]\nlast_signature = ''\nsigned_transactions = []\nfor date, content in transactions:\n    last_signature = simple_hash_func(date+content+last_signature)\n    signed_transactions += [[date, content, last_signature]]\n                       \nfor date, content, signature in signed_transactions:\n    print('\\t'.join([date, content, signature]))",
      "execution_count": null,
      "outputs": []
    },
    {
      "metadata": {
        "_uuid": "562ac3cbf5a1d4a09b8c4797c6fb5814cfd45e9e",
        "_cell_guid": "bd635419-31d4-403f-85a3-0c37cde74217"
      },
      "cell_type": "markdown",
      "source": "We can check to see if it is really signed by trying to change the amount Joel pays Kevin to $15"
    },
    {
      "metadata": {
        "_uuid": "e86fd1804f555ae974f59260aacb4e6cd4381041",
        "_cell_guid": "d9797f31-3d6e-403e-8e67-2598b0484c51",
        "trusted": false,
        "collapsed": true
      },
      "cell_type": "code",
      "source": "transactions[1][1] = 'Joel pays Kevin $15.'\nlast_signature = ''\nnew_signed_transactions = []\nfor date, content in transactions:\n    last_signature = simple_hash_func(date+content+last_signature)\n    new_signed_transactions += [[date, content, last_signature]]\n                       \nfor (date, content, new_signature), (_, _, old_signature) in zip(new_signed_transactions, signed_transactions):\n    print('\\t'.join([date, content]))\n    print('\\t\\t\\tnew: ', new_signature)\n    print('\\t\\t\\told: ', old_signature)",
      "execution_count": null,
      "outputs": []
    },
    {
      "metadata": {
        "_uuid": "a7fddf45054cf04180a977ddb2f44bbb0044347c",
        "_cell_guid": "ac8b13da-22ae-49d4-ad73-b304471baa9e"
      },
      "cell_type": "markdown",
      "source": "* We see that it worked, even though we only changed one character (moved the period)"
    },
    {
      "metadata": {
        "_uuid": "5d42b5b08a2d0f7df8efb91ff29b5467887d09e2",
        "_cell_guid": "5df9f731-3ef0-4a1a-a20b-9dcd31886e3b"
      },
      "cell_type": "markdown",
      "source": "## Proof of Work\nThe challenge of blockchain is that we need something that is **difficult to compute** and easy to verify. This assymetry is what makes the problem more challenging. Here we introduce proof of work. The idea of proof of work is to have a task which is difficult to do and ideally one that has a scalable level of difficulty (if only one machine is working on proof of work it is easy, if many are it can be made more difficult as to keep the rate of difficult problems solved -> bitcoins mined, constant). \nWe take the last task of changing one of the entries and try to determine how many spaces to add to the end, so we can get a valid blockchain again"
    },
    {
      "metadata": {
        "_uuid": "84d0370d7cb4ccc7fb48172ad5f64ee75de4a570",
        "_cell_guid": "6448c37d-f023-4ff0-a840-2b143e2d6d4f",
        "trusted": false,
        "collapsed": true
      },
      "cell_type": "code",
      "source": "%%time\nfrom itertools import product\nfrom string import ascii_letters\n\ngoal_hash = signed_transactions[1][2]\nlast_signature = simple_hash_func(signed_transactions[0][0]+signed_transactions[0][1]+'')\n\nfor c_vals in product(*[' '+ascii_letters]*6):\n    start_text = 'Joel pays Kevin $15. {}'.format(''.join(c_vals))\n    cur_hash = simple_hash_func(signed_transactions[1][0]+start_text+last_signature) \n    if cur_hash == goal_hash:\n        print('magic text found:', start_text)\n        break",
      "execution_count": null,
      "outputs": []
    },
    {
      "metadata": {
        "_uuid": "819bc11598066836059b2291891ae9f3285dce3f",
        "_cell_guid": "b4442a1a-b03b-4ae0-88f4-980f51afc9b8",
        "trusted": false,
        "collapsed": true
      },
      "cell_type": "code",
      "source": "transactions[1][1] = start_text\nlast_signature = ''\nnew_signed_transactions = []\nfor date, content in transactions:\n    last_signature = simple_hash_func(date+content+last_signature)\n    new_signed_transactions += [[date, content, last_signature]]\n                       \nfor (date, content, new_signature), (_, _, old_signature) in zip(new_signed_transactions, signed_transactions):\n    print('\\t'.join([date, content]))\n    print('\\t\\t\\tnew: ', new_signature)\n    print('\\t\\t\\told: ', old_signature)",
      "execution_count": null,
      "outputs": []
    },
    {
      "metadata": {
        "_uuid": "4d56cf0de9de91440125239223d0976ac8aeb1a1",
        "_cell_guid": "ddbc70b5-d56d-42ba-981d-c423d4e77ba5"
      },
      "cell_type": "markdown",
      "source": "* We see that by adding characters to the end we can now get the blockchain to be valid again. "
    },
    {
      "metadata": {
        "_uuid": "105f40420297e50e83e4e5b643f22485cc371a79",
        "_cell_guid": "060554cf-bf41-40fc-b910-68e0bec6fdc6"
      },
      "cell_type": "markdown",
      "source": "# Task Proof of Work\nFor this concrete task we have the goal to find a number of multiply the original number by such that the hash we generate has the last character be zero (we can make this a scalable task by saying the last _n_ characters should be 0)."
    },
    {
      "metadata": {
        "_uuid": "5a3333a66261e18cc4e55ba40b28c19b61a7da34",
        "_cell_guid": "c27276a9-8d99-46cb-8752-b871b01a5461",
        "trusted": false,
        "collapsed": true
      },
      "cell_type": "code",
      "source": "%%time\nmy_favorite_number = 12345\nproof_of_work = 0  # We don't know what it is yet...\nwhile simple_hash_func(my_favorite_number*proof_of_work)[-1] != \"0\":\n    proof_of_work += 1\nprint('The solution is proof of work = {}'.format(proof_of_work))\nprint('Verification',simple_hash_func(my_favorite_number*proof_of_work))",
      "execution_count": null,
      "outputs": []
    },
    {
      "metadata": {
        "_uuid": "3727c548e333d841ba83f3b359a6e3d5d2a59acb",
        "_cell_guid": "10332db1-66c3-4966-93b2-05c6cd46b521"
      },
      "cell_type": "markdown",
      "source": "That was clearly not a difficult enough problem and so we need to make it more challenging so it takes longer than the original steps above (it does in fact take longer, but so does printing and writing output to the browser). So now we try having the last 5 digits end in 0"
    },
    {
      "metadata": {
        "_uuid": "27cb9b1eded489ddf1b6b9c9d114241d426f3dd4",
        "collapsed": true,
        "_cell_guid": "c8e2d678-01a5-46c3-af72-d3ef841adeff",
        "trusted": false
      },
      "cell_type": "code",
      "source": "def calculate_proof_of_work(in_number, out_zeros):\n    proof_of_work = 0  # We don't know what it is yet...\n    goal_zero_str = ''.join([\"0\"]*out_zeros)\n    while simple_hash_func(my_favorite_number*proof_of_work)[-out_zeros:] != goal_zero_str:\n        proof_of_work += 1\n    return proof_of_work",
      "execution_count": null,
      "outputs": []
    },
    {
      "metadata": {
        "_uuid": "e7addea1cab041fabdd5a944063f04224fd6bc14",
        "_cell_guid": "f2d1b4a0-5c2e-4a85-a1fb-a5006c32602e",
        "trusted": false,
        "collapsed": true
      },
      "cell_type": "code",
      "source": "%%time\nproof_of_work = calculate_proof_of_work(my_favorite_number, 5)\nprint('The solution is proof of work = {}'.format(proof_of_work))\nprint('Verification',simple_hash_func(my_favorite_number*proof_of_work))",
      "execution_count": null,
      "outputs": []
    },
    {
      "metadata": {
        "_uuid": "11c10de090830df6395a07e38b348ae3dc3bbf1f",
        "_cell_guid": "47be6f39-4c7a-418d-9caf-c92eb0e6d114"
      },
      "cell_type": "markdown",
      "source": "# Review\nWe have now created a proof of work function for taking an input and finding out what it needs to be multiplied by in order to have the desired number of zeros. We can also see how this problem becomes more and more difficult the more zeros it needs to have with examples with 1 zero taking 500$\\mu$s and 5 zeros taking 2800000$\\mu$s"
    },
    {
      "metadata": {
        "_uuid": "6cafa460860297feead77669cfef91c9f3e27dd8",
        "scrolled": true,
        "_cell_guid": "5c442435-c310-4cc7-a122-0144b63f4e82",
        "trusted": false,
        "collapsed": true
      },
      "cell_type": "code",
      "source": "%%time\nfrom time import clock\nzero_out, time_out = [], []\nfor i in range(1, 6+1):\n    start = clock()\n    # average over 3 different numbers\n    for j in range(3):\n        _ = calculate_proof_of_work(my_favorite_number+j, i)\n    t_out = (clock()-start)/3*1000\n    time_out += [t_out]\n    zero_out += [i]\n    print(i,'\\t', '%4e ms' % t_out)",
      "execution_count": null,
      "outputs": []
    },
    {
      "metadata": {
        "_uuid": "4e3f96ba7f852a98bbd697e37eaa296c9aa4770f",
        "_cell_guid": "2a9b9b59-ab97-4a20-acbd-886a405089da"
      },
      "cell_type": "markdown",
      "source": "Here we plot the results if matplotlib is available otherwise we can just examine the table in more detail"
    },
    {
      "metadata": {
        "_uuid": "0f48bc7b4f6ab65e400f34ad1b1ada84f383d6b7",
        "_cell_guid": "ecde2f5d-cc82-47d5-901c-c59752ee94ba",
        "trusted": false,
        "collapsed": true
      },
      "cell_type": "code",
      "source": "%matplotlib inline\ntry:\n    import matplotlib.pyplot as plt\n    fig, out_ax = plt.subplots(1,1, figsize = (8, 5))\n    out_ax.semilogy(zero_out, time_out, 'r+-.')\n    out_ax.set_title('Proof of Work Time vs Zeros')\n    out_ax.set_ylabel('Proof of Work Time (ms)')\n    out_ax.set_xlabel('Number of 0s at end')\nexcept ImportError as ie:\n    print('Matplotlib is required to show plots')",
      "execution_count": null,
      "outputs": []
    }
  ],
  "metadata": {
    "kernelspec": {
      "display_name": "Python 3",
      "language": "python",
      "name": "python3"
    },
    "language_info": {
      "name": "python",
      "version": "3.6.5",
      "mimetype": "text/x-python",
      "codemirror_mode": {
        "name": "ipython",
        "version": 3
      },
      "pygments_lexer": "ipython3",
      "nbconvert_exporter": "python",
      "file_extension": ".py"
    }
  },
  "nbformat": 4,
  "nbformat_minor": 1
}